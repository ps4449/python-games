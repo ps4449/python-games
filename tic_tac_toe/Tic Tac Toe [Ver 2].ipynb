{
 "cells": [
  {
   "cell_type": "code",
   "execution_count": 1,
   "metadata": {},
   "outputs": [
    {
     "ename": "SyntaxError",
     "evalue": "unexpected EOF while parsing (<ipython-input-1-d9595b1868dc>, line 1)",
     "output_type": "error",
     "traceback": [
      "\u001b[1;36m  File \u001b[1;32m\"<ipython-input-1-d9595b1868dc>\"\u001b[1;36m, line \u001b[1;32m1\u001b[0m\n\u001b[1;33m    class Player:\u001b[0m\n\u001b[1;37m                 ^\u001b[0m\n\u001b[1;31mSyntaxError\u001b[0m\u001b[1;31m:\u001b[0m unexpected EOF while parsing\n"
     ]
    }
   ],
   "source": [
    "import math\n",
    "import random\n",
    "\n",
    "class Player:\n",
    "    def __init__(self, letter):\n",
    "        self.letter=letter\n",
    "        \n",
    "    def get_move(self, game):\n",
    "        pass"
   ]
  },
  {
   "cell_type": "code",
   "execution_count": null,
   "metadata": {},
   "outputs": [],
   "source": [
    "class RandomComputerPlayer(Player):\n",
    "    def __init__(self, letter):\n",
    "        super().__init__(letter)\n",
    "        \n",
    "    def get_move(self, game):\n",
    "        spot = random.choice(game.available_moves())\n",
    "        return spot"
   ]
  },
  {
   "cell_type": "code",
   "execution_count": null,
   "metadata": {},
   "outputs": [],
   "source": [
    "class HumanPlayer(Player):\n",
    "    def __init__(self, letter):\n",
    "        super().__init__(letter)\n",
    "        \n",
    "    def get_move(self, game):\n",
    "        verify = False\n",
    "        input_value = None\n",
    "        while not verify:\n",
    "            spot = input(self.letter)\n",
    "            try:\n",
    "                "
   ]
  },
  {
   "cell_type": "code",
   "execution_count": null,
   "metadata": {},
   "outputs": [],
   "source": [
    "class TicTacToe:\n",
    "    def __init__(self):\n",
    "        self.board=[' ' for _ in range(9)]\n",
    "        self.current_winner=None\n",
    "    \n",
    "    def print_board(self):\n",
    "        # board for the framework of the rows\n",
    "        for row in [self.board[i*3:(i+1)*3] for i in range (3)]:\n",
    "            print('| '+' | '.join(row)+\" |\")\n",
    "        \n",
    "    @staticmethod\n",
    "    def print_board_num():\n",
    "        # tells us the corresponding number to the box\n",
    "        number_board=[[str(i) for i in range(j*3,(j+1)*3)] for j in range(3)]\n",
    "        for row in number_board:\n",
    "            print('| '+' | '.join(row)+\" |\")\n",
    "    \n",
    "    def available_moves(self):\n",
    "        return [i for i, spot in enumerate(self.board) if spot == ' ']"
   ]
  }
 ],
 "metadata": {
  "kernelspec": {
   "display_name": "Python 3",
   "language": "python",
   "name": "python3"
  },
  "language_info": {
   "codemirror_mode": {
    "name": "ipython",
    "version": 3
   },
   "file_extension": ".py",
   "mimetype": "text/x-python",
   "name": "python",
   "nbconvert_exporter": "python",
   "pygments_lexer": "ipython3",
   "version": "3.8.5"
  }
 },
 "nbformat": 4,
 "nbformat_minor": 4
}
