{
 "cells": [
  {
   "cell_type": "code",
   "execution_count": null,
   "metadata": {},
   "outputs": [],
   "source": [
    "import random"
   ]
  },
  {
   "cell_type": "code",
   "execution_count": null,
   "metadata": {},
   "outputs": [],
   "source": [
    "# creating a tuple for suits\n",
    "suits = (\"Hearts\", \"Spades\", \"Diamonds\", \"Clubs\")\n",
    "\n",
    "# list of ranks to randomize deck creation\n",
    "ranks = (\"Two\", \"Three\", \"Four\", \"Five\", \"Six\", \"Seven\", \"Eight\", \"Nine\", \"Ten\", \"Jack\", \"Queen\", \"King\", \"Ace\")\n",
    "\n",
    "# mapping str values of cards to the numerical values\n",
    "values = {\"Two\":2, \"Three\":3, \"Four\":4, \"Five\":5, \"Six\":6, \"Seven\":7, \"Eight\":8, \"Nine\":9, \"Ten\":10, \n",
    "          \"Jack\":11, \"Queen\":12, \"King\":13, \"Ace\": 14}"
   ]
  },
  {
   "cell_type": "code",
   "execution_count": null,
   "metadata": {},
   "outputs": [],
   "source": [
    "'''\n",
    "This Card class is used to generate cards of a certain value such as \"King of Spades\"\n",
    "'''\n",
    "\n",
    "class Card:\n",
    "    def __init__(self, suit, rank):\n",
    "        self.suit = suit\n",
    "        self.rank = rank\n",
    "        self.value = values[rank]\n",
    "        \n",
    "    def __str__(self):\n",
    "        return (self.rank + \" of \" + self.suit)"
   ]
  },
  {
   "cell_type": "code",
   "execution_count": null,
   "metadata": {},
   "outputs": [],
   "source": [
    "'''\n",
    "This Deck class is used to generate a full set of 52 cards and shuffle it on random\n",
    "'''\n",
    "\n",
    "class Deck:\n",
    "    def __init__(self):\n",
    "        self.all_cards = [] # list of objects to store all cards in the deck\n",
    "        \n",
    "        for suit in suits: # initialize the deck in order\n",
    "            for rank in ranks:\n",
    "                self.all_cards.append(Card(suit, rank))\n",
    "                \n",
    "    def shuffle(self): # shuffle the created deck\n",
    "        random.shuffle(self.all_cards)\n",
    "        \n",
    "    def deal_one(self): # remove a single card from the deck\n",
    "        return self.all_cards.pop()"
   ]
  }
 ],
 "metadata": {
  "language_info": {
   "name": "python"
  }
 },
 "nbformat": 4,
 "nbformat_minor": 2
}
